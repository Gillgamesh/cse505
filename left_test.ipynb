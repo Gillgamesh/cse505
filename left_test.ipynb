{
 "cells": [
  {
   "cell_type": "code",
   "execution_count": 9,
   "metadata": {},
   "outputs": [],
   "source": [
    "import linear\n",
    "from linear import (\n",
    "    wedge_product, left_test, ConvexPolygon, transform_vector\n",
    ")\n",
    "import z3\n",
    "import numpy as np"
   ]
  },
  {
   "cell_type": "code",
   "execution_count": 6,
   "metadata": {},
   "outputs": [
    {
     "data": {
      "text/plain": [
       "False"
      ]
     },
     "execution_count": 6,
     "metadata": {},
     "output_type": "execute_result"
    }
   ],
   "source": [
    "left_test([0, 0], [1,1], [2,0])"
   ]
  },
  {
   "cell_type": "code",
   "execution_count": 8,
   "metadata": {},
   "outputs": [
    {
     "data": {
      "text/html": [
       "1&middot;(y - 0) - (x - 0)&middot;1 &ge; 0"
      ],
      "text/plain": [
       "1*(y - 0) - (x - 0)*1 >= 0"
      ]
     },
     "execution_count": 8,
     "metadata": {},
     "output_type": "execute_result"
    }
   ],
   "source": [
    "x = z3.Real(\"x\")\n",
    "y = z3.Real(\"y\")\n",
    "\n",
    "left_test([0, 0], [1,1], [x,y])"
   ]
  },
  {
   "cell_type": "code",
   "execution_count": 13,
   "metadata": {},
   "outputs": [
    {
     "ename": "TypeError",
     "evalue": "ConvexPolygon.constrain_in_shape() missing 1 required positional argument: 'solver'",
     "output_type": "error",
     "traceback": [
      "\u001b[0;31m---------------------------------------------------------------------------\u001b[0m",
      "\u001b[0;31mTypeError\u001b[0m                                 Traceback (most recent call last)",
      "Cell \u001b[0;32mIn[13], line 13\u001b[0m\n\u001b[1;32m     10\u001b[0m x \u001b[38;5;241m=\u001b[39m z3\u001b[38;5;241m.\u001b[39mReal(\u001b[38;5;124m'\u001b[39m\u001b[38;5;124mx\u001b[39m\u001b[38;5;124m'\u001b[39m)\n\u001b[1;32m     11\u001b[0m y \u001b[38;5;241m=\u001b[39m z3\u001b[38;5;241m.\u001b[39mReal(\u001b[38;5;124m'\u001b[39m\u001b[38;5;124my\u001b[39m\u001b[38;5;124m'\u001b[39m)\n\u001b[0;32m---> 13\u001b[0m \u001b[43minput_shape\u001b[49m\u001b[38;5;241;43m.\u001b[39;49m\u001b[43mconstrain_in_shape\u001b[49m\u001b[43m(\u001b[49m\u001b[43m[\u001b[49m\u001b[43mx\u001b[49m\u001b[43m,\u001b[49m\u001b[43m \u001b[49m\u001b[43my\u001b[49m\u001b[43m]\u001b[49m\u001b[43m)\u001b[49m\n",
      "\u001b[0;31mTypeError\u001b[0m: ConvexPolygon.constrain_in_shape() missing 1 required positional argument: 'solver'"
     ]
    }
   ],
   "source": [
    "solver = z3.Solver()\n",
    "input_shape = ConvexPolygon(\n",
    "    [\n",
    "        [-1, -1],\n",
    "        [1, -1],\n",
    "        [1, 1],\n",
    "        [-1, 1]\n",
    "    ]\n",
    ")\n",
    "x = z3.Real('x')\n",
    "y = z3.Real('y')\n"
   ]
  },
  {
   "cell_type": "code",
   "execution_count": 16,
   "metadata": {},
   "outputs": [
    {
     "data": {
      "text/html": [
       "[2&middot;(y - -1) - (x - -1)&middot;0 &ge; 0,\n",
       " 0&middot;(y - -1) - (x - 1)&middot;2 &ge; 0,\n",
       " -2&middot;(y - 1) - (x - 1)&middot;0 &ge; 0,\n",
       " 0&middot;(y - 1) - (x - -1)&middot;-2 &ge; 0,\n",
       " 13/5&middot;(0 + -1&middot;x + 1&middot;y - -13/10) - (0 + 1&middot;x + 1&middot;y - -13/10)&middot;0 &le;\n",
       " 0 &or;\n",
       " 0&middot;(0 + -1&middot;x + 1&middot;y - -13/10) - (0 + 1&middot;x + 1&middot;y - 13/10)&middot;13/5 &le;\n",
       " 0 &or;\n",
       " -13/5&middot;(0 + -1&middot;x + 1&middot;y - 13/10) - (0 + 1&middot;x + 1&middot;y - 13/10)&middot;0 &le;\n",
       " 0 &or;\n",
       " 0&middot;(0 + -1&middot;x + 1&middot;y - 13/10) - (0 + 1&middot;x + 1&middot;y - -13/10)&middot;-13/5 &le;\n",
       " 0]"
      ],
      "text/plain": [
       "[2*(y - -1) - (x - -1)*0 >= 0,\n",
       " 0*(y - -1) - (x - 1)*2 >= 0,\n",
       " -2*(y - 1) - (x - 1)*0 >= 0,\n",
       " 0*(y - 1) - (x - -1)*-2 >= 0,\n",
       " Or(13/5*(0 + -1*x + 1*y - -13/10) -\n",
       "    (0 + 1*x + 1*y - -13/10)*0 <=\n",
       "    0,\n",
       "    0*(0 + -1*x + 1*y - -13/10) -\n",
       "    (0 + 1*x + 1*y - 13/10)*13/5 <=\n",
       "    0,\n",
       "    -13/5*(0 + -1*x + 1*y - 13/10) -\n",
       "    (0 + 1*x + 1*y - 13/10)*0 <=\n",
       "    0,\n",
       "    0*(0 + -1*x + 1*y - 13/10) -\n",
       "    (0 + 1*x + 1*y - -13/10)*-13/5 <=\n",
       "    0)]"
      ]
     },
     "execution_count": 16,
     "metadata": {},
     "output_type": "execute_result"
    }
   ],
   "source": [
    "solver = z3.Solver()\n",
    "input_shape = ConvexPolygon(\n",
    "    [\n",
    "        [-1, -1],\n",
    "        [1, -1],\n",
    "        [1, 1],\n",
    "        [-1, 1]\n",
    "    ]\n",
    ")\n",
    "x = z3.Real('x')\n",
    "y = z3.Real('y')\n",
    "\n",
    "transformation = [\n",
    "    [1,1],\n",
    "    [-1,1]\n",
    "]\n",
    "output_constraint_box = input_shape.transform(\n",
    "    lambda p: transform_vector(1.3*np.eye(2), p)\n",
    ")\n",
    "input_shape.constrain_in_shape([x,y], solver)\n",
    "output_constraint_box.constrain_not_in_shape(\n",
    "    transform_vector(transformation, [x, y]),\n",
    "    solver\n",
    ")\n",
    "# .... assertion writing code above\n",
    "solver.assertions()"
   ]
  },
  {
   "cell_type": "code",
   "execution_count": 19,
   "metadata": {},
   "outputs": [
    {
     "data": {
      "text/html": [
       "[y = -1, x = -3/10]"
      ],
      "text/plain": [
       "[y = -1, x = -3/10]"
      ]
     },
     "execution_count": 19,
     "metadata": {},
     "output_type": "execute_result"
    }
   ],
   "source": [
    "(solver.check() == z3.sat) and solver.model()"
   ]
  },
  {
   "cell_type": "code",
   "execution_count": null,
   "metadata": {},
   "outputs": [],
   "source": []
  }
 ],
 "metadata": {
  "interpreter": {
   "hash": "aa25c40717c5076a484216615cbef442c017820c2a10ce5b144b73260d8fc71b"
  },
  "kernelspec": {
   "display_name": "Python 3.9.7 ('bruh')",
   "language": "python",
   "name": "python3"
  },
  "language_info": {
   "codemirror_mode": {
    "name": "ipython",
    "version": 3
   },
   "file_extension": ".py",
   "mimetype": "text/x-python",
   "name": "python",
   "nbconvert_exporter": "python",
   "pygments_lexer": "ipython3",
   "version": "3.11.0"
  },
  "orig_nbformat": 4
 },
 "nbformat": 4,
 "nbformat_minor": 2
}
